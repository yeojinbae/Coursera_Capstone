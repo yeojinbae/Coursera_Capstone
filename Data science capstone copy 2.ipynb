{
    "cells": [
        {
            "metadata": {
                "collapsed": true
            },
            "cell_type": "markdown",
            "source": "# Car accidnt severity prediction\nAudience: stakeholders of a map company (i.e. Google Map)"
        },
        {
            "metadata": {},
            "cell_type": "markdown",
            "source": "## Introduction"
        },
        {
            "metadata": {},
            "cell_type": "markdown",
            "source": "Facing traffic jams is an extremely unpleasant experience as it may cause serious delays and interruptions in one\u2019s schedule. Predicting traffic jams and avoiding them would greatly enhance the efficiency and quality of people\u2019s life. One of the critical factors that cause traffic jams is car accidents.\n\nThis report will suggest a new model that can predict the severity of car accidents in a particular area. The model will predict the severity level of possible accidents based on some background information of the daily condition (i.e. weather, road condition, etc.).\n\nBy predicting the accident\u2019s severity that may occur in a particular area, our map system can recommend a more effective route for its users. This new intelligent system will preoccupy a unique positioning in the market, thus higher customer satisfaction and attraction of new customers will be made possible. This will not only reduce the chance of facing traffic jams, but also reduce the possibility of accidents, as there will be less traffic on the high-risk area. This will give us better brand image by fulfilling the social responsibility as a map company."
        },
        {
            "metadata": {},
            "cell_type": "markdown",
            "source": "## Data"
        },
        {
            "metadata": {},
            "cell_type": "markdown",
            "source": "The data that will be used in the model building will be the collision data from Seattle. It includes all collisions provided by SPD and recorded by traffic records. The data has been recorded from 2004 until present, updated weekly. Below shows the first five rows of the data table.\n\n(Its metadata can be found in this link: https://s3.us.cloud-object-storage.appdomain.cloud/cf-courses-data/CognitiveClass/DP0701EN/version-2/Metadata.pdf)"
        },
        {
            "metadata": {},
            "cell_type": "code",
            "source": "#import necessary programs\nimport itertools\nimport numpy as np\nimport matplotlib.pyplot as plt\nfrom matplotlib.ticker import NullFormatter\nimport pandas as pd\nimport numpy as np\nimport matplotlib.ticker as ticker\nfrom sklearn import preprocessing\n%matplotlib inline",
            "execution_count": 1,
            "outputs": []
        },
        {
            "metadata": {},
            "cell_type": "code",
            "source": "collision_data=pd.read_csv(\"https://s3.us.cloud-object-storage.appdomain.cloud/cf-courses-data/CognitiveClass/DP0701EN/version-2/Data-Collisions.csv\")\ncollision_data.head()",
            "execution_count": 2,
            "outputs": [
                {
                    "output_type": "stream",
                    "text": "/opt/conda/envs/Python36/lib/python3.6/site-packages/IPython/core/interactiveshell.py:3020: DtypeWarning: Columns (33) have mixed types. Specify dtype option on import or set low_memory=False.\n  interactivity=interactivity, compiler=compiler, result=result)\n",
                    "name": "stderr"
                },
                {
                    "output_type": "execute_result",
                    "execution_count": 2,
                    "data": {
                        "text/plain": "   SEVERITYCODE           X          Y  OBJECTID  INCKEY  COLDETKEY REPORTNO  \\\n0             2 -122.323148  47.703140         1    1307       1307  3502005   \n1             1 -122.347294  47.647172         2   52200      52200  2607959   \n2             1 -122.334540  47.607871         3   26700      26700  1482393   \n3             1 -122.334803  47.604803         4    1144       1144  3503937   \n4             2 -122.306426  47.545739         5   17700      17700  1807429   \n\n    STATUS      ADDRTYPE   INTKEY  ... ROADCOND                LIGHTCOND  \\\n0  Matched  Intersection  37475.0  ...      Wet                 Daylight   \n1  Matched         Block      NaN  ...      Wet  Dark - Street Lights On   \n2  Matched         Block      NaN  ...      Dry                 Daylight   \n3  Matched         Block      NaN  ...      Dry                 Daylight   \n4  Matched  Intersection  34387.0  ...      Wet                 Daylight   \n\n  PEDROWNOTGRNT  SDOTCOLNUM SPEEDING ST_COLCODE  \\\n0           NaN         NaN      NaN         10   \n1           NaN   6354039.0      NaN         11   \n2           NaN   4323031.0      NaN         32   \n3           NaN         NaN      NaN         23   \n4           NaN   4028032.0      NaN         10   \n\n                                          ST_COLDESC  SEGLANEKEY  \\\n0                                  Entering at angle           0   \n1  From same direction - both going straight - bo...           0   \n2                             One parked--one moving           0   \n3                   From same direction - all others           0   \n4                                  Entering at angle           0   \n\n   CROSSWALKKEY  HITPARKEDCAR  \n0             0             N  \n1             0             N  \n2             0             N  \n3             0             N  \n4             0             N  \n\n[5 rows x 38 columns]",
                        "text/html": "<div>\n<style scoped>\n    .dataframe tbody tr th:only-of-type {\n        vertical-align: middle;\n    }\n\n    .dataframe tbody tr th {\n        vertical-align: top;\n    }\n\n    .dataframe thead th {\n        text-align: right;\n    }\n</style>\n<table border=\"1\" class=\"dataframe\">\n  <thead>\n    <tr style=\"text-align: right;\">\n      <th></th>\n      <th>SEVERITYCODE</th>\n      <th>X</th>\n      <th>Y</th>\n      <th>OBJECTID</th>\n      <th>INCKEY</th>\n      <th>COLDETKEY</th>\n      <th>REPORTNO</th>\n      <th>STATUS</th>\n      <th>ADDRTYPE</th>\n      <th>INTKEY</th>\n      <th>...</th>\n      <th>ROADCOND</th>\n      <th>LIGHTCOND</th>\n      <th>PEDROWNOTGRNT</th>\n      <th>SDOTCOLNUM</th>\n      <th>SPEEDING</th>\n      <th>ST_COLCODE</th>\n      <th>ST_COLDESC</th>\n      <th>SEGLANEKEY</th>\n      <th>CROSSWALKKEY</th>\n      <th>HITPARKEDCAR</th>\n    </tr>\n  </thead>\n  <tbody>\n    <tr>\n      <th>0</th>\n      <td>2</td>\n      <td>-122.323148</td>\n      <td>47.703140</td>\n      <td>1</td>\n      <td>1307</td>\n      <td>1307</td>\n      <td>3502005</td>\n      <td>Matched</td>\n      <td>Intersection</td>\n      <td>37475.0</td>\n      <td>...</td>\n      <td>Wet</td>\n      <td>Daylight</td>\n      <td>NaN</td>\n      <td>NaN</td>\n      <td>NaN</td>\n      <td>10</td>\n      <td>Entering at angle</td>\n      <td>0</td>\n      <td>0</td>\n      <td>N</td>\n    </tr>\n    <tr>\n      <th>1</th>\n      <td>1</td>\n      <td>-122.347294</td>\n      <td>47.647172</td>\n      <td>2</td>\n      <td>52200</td>\n      <td>52200</td>\n      <td>2607959</td>\n      <td>Matched</td>\n      <td>Block</td>\n      <td>NaN</td>\n      <td>...</td>\n      <td>Wet</td>\n      <td>Dark - Street Lights On</td>\n      <td>NaN</td>\n      <td>6354039.0</td>\n      <td>NaN</td>\n      <td>11</td>\n      <td>From same direction - both going straight - bo...</td>\n      <td>0</td>\n      <td>0</td>\n      <td>N</td>\n    </tr>\n    <tr>\n      <th>2</th>\n      <td>1</td>\n      <td>-122.334540</td>\n      <td>47.607871</td>\n      <td>3</td>\n      <td>26700</td>\n      <td>26700</td>\n      <td>1482393</td>\n      <td>Matched</td>\n      <td>Block</td>\n      <td>NaN</td>\n      <td>...</td>\n      <td>Dry</td>\n      <td>Daylight</td>\n      <td>NaN</td>\n      <td>4323031.0</td>\n      <td>NaN</td>\n      <td>32</td>\n      <td>One parked--one moving</td>\n      <td>0</td>\n      <td>0</td>\n      <td>N</td>\n    </tr>\n    <tr>\n      <th>3</th>\n      <td>1</td>\n      <td>-122.334803</td>\n      <td>47.604803</td>\n      <td>4</td>\n      <td>1144</td>\n      <td>1144</td>\n      <td>3503937</td>\n      <td>Matched</td>\n      <td>Block</td>\n      <td>NaN</td>\n      <td>...</td>\n      <td>Dry</td>\n      <td>Daylight</td>\n      <td>NaN</td>\n      <td>NaN</td>\n      <td>NaN</td>\n      <td>23</td>\n      <td>From same direction - all others</td>\n      <td>0</td>\n      <td>0</td>\n      <td>N</td>\n    </tr>\n    <tr>\n      <th>4</th>\n      <td>2</td>\n      <td>-122.306426</td>\n      <td>47.545739</td>\n      <td>5</td>\n      <td>17700</td>\n      <td>17700</td>\n      <td>1807429</td>\n      <td>Matched</td>\n      <td>Intersection</td>\n      <td>34387.0</td>\n      <td>...</td>\n      <td>Wet</td>\n      <td>Daylight</td>\n      <td>NaN</td>\n      <td>4028032.0</td>\n      <td>NaN</td>\n      <td>10</td>\n      <td>Entering at angle</td>\n      <td>0</td>\n      <td>0</td>\n      <td>N</td>\n    </tr>\n  </tbody>\n</table>\n<p>5 rows \u00d7 38 columns</p>\n</div>"
                    },
                    "metadata": {}
                }
            ]
        },
        {
            "metadata": {},
            "cell_type": "markdown",
            "source": "There are 37 attributes in the data. Among them, severity code (SEVERITYCODE), which categorizes the severity of the accident from 0 (unknown) to 3 (fatal), will be our target value. As for attributes that will be used to predict the target value, collision address type (ADDRTYPE), weather condition (WEATHER) and road condition (ROADCOND) will be used.\n\nBelow shows the table with only the target and attributes stated above."
        },
        {
            "metadata": {},
            "cell_type": "code",
            "source": "df=collision_data[['SEVERITYCODE','ADDRTYPE', 'WEATHER','ROADCOND']]\ndf.head()",
            "execution_count": 3,
            "outputs": [
                {
                    "output_type": "execute_result",
                    "execution_count": 3,
                    "data": {
                        "text/plain": "   SEVERITYCODE      ADDRTYPE   WEATHER ROADCOND\n0             2  Intersection  Overcast      Wet\n1             1         Block   Raining      Wet\n2             1         Block  Overcast      Dry\n3             1         Block     Clear      Dry\n4             2  Intersection   Raining      Wet",
                        "text/html": "<div>\n<style scoped>\n    .dataframe tbody tr th:only-of-type {\n        vertical-align: middle;\n    }\n\n    .dataframe tbody tr th {\n        vertical-align: top;\n    }\n\n    .dataframe thead th {\n        text-align: right;\n    }\n</style>\n<table border=\"1\" class=\"dataframe\">\n  <thead>\n    <tr style=\"text-align: right;\">\n      <th></th>\n      <th>SEVERITYCODE</th>\n      <th>ADDRTYPE</th>\n      <th>WEATHER</th>\n      <th>ROADCOND</th>\n    </tr>\n  </thead>\n  <tbody>\n    <tr>\n      <th>0</th>\n      <td>2</td>\n      <td>Intersection</td>\n      <td>Overcast</td>\n      <td>Wet</td>\n    </tr>\n    <tr>\n      <th>1</th>\n      <td>1</td>\n      <td>Block</td>\n      <td>Raining</td>\n      <td>Wet</td>\n    </tr>\n    <tr>\n      <th>2</th>\n      <td>1</td>\n      <td>Block</td>\n      <td>Overcast</td>\n      <td>Dry</td>\n    </tr>\n    <tr>\n      <th>3</th>\n      <td>1</td>\n      <td>Block</td>\n      <td>Clear</td>\n      <td>Dry</td>\n    </tr>\n    <tr>\n      <th>4</th>\n      <td>2</td>\n      <td>Intersection</td>\n      <td>Raining</td>\n      <td>Wet</td>\n    </tr>\n  </tbody>\n</table>\n</div>"
                    },
                    "metadata": {}
                }
            ]
        },
        {
            "metadata": {},
            "cell_type": "markdown",
            "source": "### Data pre-processing\nThis section will pre-process the data before model building. Each attributes and target will be processed.\nThe data type is shown below."
        },
        {
            "metadata": {},
            "cell_type": "code",
            "source": "df.dtypes",
            "execution_count": 4,
            "outputs": [
                {
                    "output_type": "execute_result",
                    "execution_count": 4,
                    "data": {
                        "text/plain": "SEVERITYCODE     int64\nADDRTYPE        object\nWEATHER         object\nROADCOND        object\ndtype: object"
                    },
                    "metadata": {}
                }
            ]
        },
        {
            "metadata": {},
            "cell_type": "markdown",
            "source": "### Severity code\nThe unique values of the data are shown below."
        },
        {
            "metadata": {},
            "cell_type": "code",
            "source": "df['SEVERITYCODE'].unique()",
            "execution_count": 5,
            "outputs": [
                {
                    "output_type": "execute_result",
                    "execution_count": 5,
                    "data": {
                        "text/plain": "array([2, 1])"
                    },
                    "metadata": {}
                }
            ]
        },
        {
            "metadata": {},
            "cell_type": "markdown",
            "source": "The severity code target has values of 1 and 2. From the metadata, 1 indicates property damage and 2 indicates injury."
        },
        {
            "metadata": {},
            "cell_type": "markdown",
            "source": "### Address type\nRemove nan values, convert categorical variables into quantitative variables."
        },
        {
            "metadata": {},
            "cell_type": "code",
            "source": "df['ADDRTYPE'].unique()",
            "execution_count": 6,
            "outputs": [
                {
                    "output_type": "execute_result",
                    "execution_count": 6,
                    "data": {
                        "text/plain": "array(['Intersection', 'Block', 'Alley', nan], dtype=object)"
                    },
                    "metadata": {}
                }
            ]
        },
        {
            "metadata": {},
            "cell_type": "code",
            "source": "df.dropna()\ndf=pd.concat([df, pd.get_dummies(df['ADDRTYPE'])], axis=1)\ndf.drop(['ADDRTYPE'],axis=1, inplace=True)\ndf.head()",
            "execution_count": 7,
            "outputs": [
                {
                    "output_type": "execute_result",
                    "execution_count": 7,
                    "data": {
                        "text/plain": "   SEVERITYCODE   WEATHER ROADCOND  Alley  Block  Intersection\n0             2  Overcast      Wet      0      0             1\n1             1   Raining      Wet      0      1             0\n2             1  Overcast      Dry      0      1             0\n3             1     Clear      Dry      0      1             0\n4             2   Raining      Wet      0      0             1",
                        "text/html": "<div>\n<style scoped>\n    .dataframe tbody tr th:only-of-type {\n        vertical-align: middle;\n    }\n\n    .dataframe tbody tr th {\n        vertical-align: top;\n    }\n\n    .dataframe thead th {\n        text-align: right;\n    }\n</style>\n<table border=\"1\" class=\"dataframe\">\n  <thead>\n    <tr style=\"text-align: right;\">\n      <th></th>\n      <th>SEVERITYCODE</th>\n      <th>WEATHER</th>\n      <th>ROADCOND</th>\n      <th>Alley</th>\n      <th>Block</th>\n      <th>Intersection</th>\n    </tr>\n  </thead>\n  <tbody>\n    <tr>\n      <th>0</th>\n      <td>2</td>\n      <td>Overcast</td>\n      <td>Wet</td>\n      <td>0</td>\n      <td>0</td>\n      <td>1</td>\n    </tr>\n    <tr>\n      <th>1</th>\n      <td>1</td>\n      <td>Raining</td>\n      <td>Wet</td>\n      <td>0</td>\n      <td>1</td>\n      <td>0</td>\n    </tr>\n    <tr>\n      <th>2</th>\n      <td>1</td>\n      <td>Overcast</td>\n      <td>Dry</td>\n      <td>0</td>\n      <td>1</td>\n      <td>0</td>\n    </tr>\n    <tr>\n      <th>3</th>\n      <td>1</td>\n      <td>Clear</td>\n      <td>Dry</td>\n      <td>0</td>\n      <td>1</td>\n      <td>0</td>\n    </tr>\n    <tr>\n      <th>4</th>\n      <td>2</td>\n      <td>Raining</td>\n      <td>Wet</td>\n      <td>0</td>\n      <td>0</td>\n      <td>1</td>\n    </tr>\n  </tbody>\n</table>\n</div>"
                    },
                    "metadata": {}
                }
            ]
        },
        {
            "metadata": {},
            "cell_type": "markdown",
            "source": "### Weather\nRemove nan values, convert categorical variables into quantitative variables."
        },
        {
            "metadata": {},
            "cell_type": "code",
            "source": "df['WEATHER'].unique()",
            "execution_count": 8,
            "outputs": [
                {
                    "output_type": "execute_result",
                    "execution_count": 8,
                    "data": {
                        "text/plain": "array(['Overcast', 'Raining', 'Clear', nan, 'Unknown', 'Other', 'Snowing',\n       'Fog/Smog/Smoke', 'Sleet/Hail/Freezing Rain', 'Blowing Sand/Dirt',\n       'Severe Crosswind', 'Partly Cloudy'], dtype=object)"
                    },
                    "metadata": {}
                }
            ]
        },
        {
            "metadata": {},
            "cell_type": "code",
            "source": "df.dropna(axis=0, inplace=True)\nindexname=df[df['WEATHER']=='Unknown'].index\ndf.drop(indexname, inplace=True)\nindexname2=df[df['WEATHER']=='Other'].index\ndf.drop(indexname2, inplace=True)\ndf['WEATHER'].unique()",
            "execution_count": 9,
            "outputs": [
                {
                    "output_type": "execute_result",
                    "execution_count": 9,
                    "data": {
                        "text/plain": "array(['Overcast', 'Raining', 'Clear', 'Snowing', 'Fog/Smog/Smoke',\n       'Sleet/Hail/Freezing Rain', 'Blowing Sand/Dirt',\n       'Severe Crosswind', 'Partly Cloudy'], dtype=object)"
                    },
                    "metadata": {}
                }
            ]
        },
        {
            "metadata": {},
            "cell_type": "code",
            "source": "df=pd.concat([df, pd.get_dummies(df['WEATHER'])],axis=1)\ndf.drop(['WEATHER'], axis=1, inplace=True)\ndf.head()",
            "execution_count": 10,
            "outputs": [
                {
                    "output_type": "execute_result",
                    "execution_count": 10,
                    "data": {
                        "text/plain": "   SEVERITYCODE ROADCOND  Alley  Block  Intersection  Blowing Sand/Dirt  \\\n0             2      Wet      0      0             1                  0   \n1             1      Wet      0      1             0                  0   \n2             1      Dry      0      1             0                  0   \n3             1      Dry      0      1             0                  0   \n4             2      Wet      0      0             1                  0   \n\n   Clear  Fog/Smog/Smoke  Overcast  Partly Cloudy  Raining  Severe Crosswind  \\\n0      0               0         1              0        0                 0   \n1      0               0         0              0        1                 0   \n2      0               0         1              0        0                 0   \n3      1               0         0              0        0                 0   \n4      0               0         0              0        1                 0   \n\n   Sleet/Hail/Freezing Rain  Snowing  \n0                         0        0  \n1                         0        0  \n2                         0        0  \n3                         0        0  \n4                         0        0  ",
                        "text/html": "<div>\n<style scoped>\n    .dataframe tbody tr th:only-of-type {\n        vertical-align: middle;\n    }\n\n    .dataframe tbody tr th {\n        vertical-align: top;\n    }\n\n    .dataframe thead th {\n        text-align: right;\n    }\n</style>\n<table border=\"1\" class=\"dataframe\">\n  <thead>\n    <tr style=\"text-align: right;\">\n      <th></th>\n      <th>SEVERITYCODE</th>\n      <th>ROADCOND</th>\n      <th>Alley</th>\n      <th>Block</th>\n      <th>Intersection</th>\n      <th>Blowing Sand/Dirt</th>\n      <th>Clear</th>\n      <th>Fog/Smog/Smoke</th>\n      <th>Overcast</th>\n      <th>Partly Cloudy</th>\n      <th>Raining</th>\n      <th>Severe Crosswind</th>\n      <th>Sleet/Hail/Freezing Rain</th>\n      <th>Snowing</th>\n    </tr>\n  </thead>\n  <tbody>\n    <tr>\n      <th>0</th>\n      <td>2</td>\n      <td>Wet</td>\n      <td>0</td>\n      <td>0</td>\n      <td>1</td>\n      <td>0</td>\n      <td>0</td>\n      <td>0</td>\n      <td>1</td>\n      <td>0</td>\n      <td>0</td>\n      <td>0</td>\n      <td>0</td>\n      <td>0</td>\n    </tr>\n    <tr>\n      <th>1</th>\n      <td>1</td>\n      <td>Wet</td>\n      <td>0</td>\n      <td>1</td>\n      <td>0</td>\n      <td>0</td>\n      <td>0</td>\n      <td>0</td>\n      <td>0</td>\n      <td>0</td>\n      <td>1</td>\n      <td>0</td>\n      <td>0</td>\n      <td>0</td>\n    </tr>\n    <tr>\n      <th>2</th>\n      <td>1</td>\n      <td>Dry</td>\n      <td>0</td>\n      <td>1</td>\n      <td>0</td>\n      <td>0</td>\n      <td>0</td>\n      <td>0</td>\n      <td>1</td>\n      <td>0</td>\n      <td>0</td>\n      <td>0</td>\n      <td>0</td>\n      <td>0</td>\n    </tr>\n    <tr>\n      <th>3</th>\n      <td>1</td>\n      <td>Dry</td>\n      <td>0</td>\n      <td>1</td>\n      <td>0</td>\n      <td>0</td>\n      <td>1</td>\n      <td>0</td>\n      <td>0</td>\n      <td>0</td>\n      <td>0</td>\n      <td>0</td>\n      <td>0</td>\n      <td>0</td>\n    </tr>\n    <tr>\n      <th>4</th>\n      <td>2</td>\n      <td>Wet</td>\n      <td>0</td>\n      <td>0</td>\n      <td>1</td>\n      <td>0</td>\n      <td>0</td>\n      <td>0</td>\n      <td>0</td>\n      <td>0</td>\n      <td>1</td>\n      <td>0</td>\n      <td>0</td>\n      <td>0</td>\n    </tr>\n  </tbody>\n</table>\n</div>"
                    },
                    "metadata": {}
                }
            ]
        },
        {
            "metadata": {},
            "cell_type": "markdown",
            "source": "### Road condition\nRemove nan values, convert categorical variables into quantitative variables."
        },
        {
            "metadata": {},
            "cell_type": "code",
            "source": "df['ROADCOND'].unique()",
            "execution_count": 11,
            "outputs": [
                {
                    "output_type": "execute_result",
                    "execution_count": 11,
                    "data": {
                        "text/plain": "array(['Wet', 'Dry', 'Unknown', 'Snow/Slush', 'Ice', 'Other',\n       'Sand/Mud/Dirt', 'Standing Water', 'Oil'], dtype=object)"
                    },
                    "metadata": {}
                }
            ]
        },
        {
            "metadata": {},
            "cell_type": "code",
            "source": "indexname=df[df['ROADCOND']=='Unknown'].index\ndf.drop(indexname, inplace=True)\nindexname2=df[df['ROADCOND']=='Other'].index\ndf.drop(indexname2, inplace=True)\ndf['ROADCOND'].unique()",
            "execution_count": 12,
            "outputs": [
                {
                    "output_type": "execute_result",
                    "execution_count": 12,
                    "data": {
                        "text/plain": "array(['Wet', 'Dry', 'Snow/Slush', 'Ice', 'Sand/Mud/Dirt',\n       'Standing Water', 'Oil'], dtype=object)"
                    },
                    "metadata": {}
                }
            ]
        },
        {
            "metadata": {
                "scrolled": true
            },
            "cell_type": "code",
            "source": "df=pd.concat([df, pd.get_dummies(df['ROADCOND'])],axis=1)\ndf.drop(['ROADCOND'], axis=1, inplace=True)\ndf.head()",
            "execution_count": 13,
            "outputs": [
                {
                    "output_type": "execute_result",
                    "execution_count": 13,
                    "data": {
                        "text/plain": "   SEVERITYCODE  Alley  Block  Intersection  Blowing Sand/Dirt  Clear  \\\n0             2      0      0             1                  0      0   \n1             1      0      1             0                  0      0   \n2             1      0      1             0                  0      0   \n3             1      0      1             0                  0      1   \n4             2      0      0             1                  0      0   \n\n   Fog/Smog/Smoke  Overcast  Partly Cloudy  Raining  Severe Crosswind  \\\n0               0         1              0        0                 0   \n1               0         0              0        1                 0   \n2               0         1              0        0                 0   \n3               0         0              0        0                 0   \n4               0         0              0        1                 0   \n\n   Sleet/Hail/Freezing Rain  Snowing  Dry  Ice  Oil  Sand/Mud/Dirt  \\\n0                         0        0    0    0    0              0   \n1                         0        0    0    0    0              0   \n2                         0        0    1    0    0              0   \n3                         0        0    1    0    0              0   \n4                         0        0    0    0    0              0   \n\n   Snow/Slush  Standing Water  Wet  \n0           0               0    1  \n1           0               0    1  \n2           0               0    0  \n3           0               0    0  \n4           0               0    1  ",
                        "text/html": "<div>\n<style scoped>\n    .dataframe tbody tr th:only-of-type {\n        vertical-align: middle;\n    }\n\n    .dataframe tbody tr th {\n        vertical-align: top;\n    }\n\n    .dataframe thead th {\n        text-align: right;\n    }\n</style>\n<table border=\"1\" class=\"dataframe\">\n  <thead>\n    <tr style=\"text-align: right;\">\n      <th></th>\n      <th>SEVERITYCODE</th>\n      <th>Alley</th>\n      <th>Block</th>\n      <th>Intersection</th>\n      <th>Blowing Sand/Dirt</th>\n      <th>Clear</th>\n      <th>Fog/Smog/Smoke</th>\n      <th>Overcast</th>\n      <th>Partly Cloudy</th>\n      <th>Raining</th>\n      <th>Severe Crosswind</th>\n      <th>Sleet/Hail/Freezing Rain</th>\n      <th>Snowing</th>\n      <th>Dry</th>\n      <th>Ice</th>\n      <th>Oil</th>\n      <th>Sand/Mud/Dirt</th>\n      <th>Snow/Slush</th>\n      <th>Standing Water</th>\n      <th>Wet</th>\n    </tr>\n  </thead>\n  <tbody>\n    <tr>\n      <th>0</th>\n      <td>2</td>\n      <td>0</td>\n      <td>0</td>\n      <td>1</td>\n      <td>0</td>\n      <td>0</td>\n      <td>0</td>\n      <td>1</td>\n      <td>0</td>\n      <td>0</td>\n      <td>0</td>\n      <td>0</td>\n      <td>0</td>\n      <td>0</td>\n      <td>0</td>\n      <td>0</td>\n      <td>0</td>\n      <td>0</td>\n      <td>0</td>\n      <td>1</td>\n    </tr>\n    <tr>\n      <th>1</th>\n      <td>1</td>\n      <td>0</td>\n      <td>1</td>\n      <td>0</td>\n      <td>0</td>\n      <td>0</td>\n      <td>0</td>\n      <td>0</td>\n      <td>0</td>\n      <td>1</td>\n      <td>0</td>\n      <td>0</td>\n      <td>0</td>\n      <td>0</td>\n      <td>0</td>\n      <td>0</td>\n      <td>0</td>\n      <td>0</td>\n      <td>0</td>\n      <td>1</td>\n    </tr>\n    <tr>\n      <th>2</th>\n      <td>1</td>\n      <td>0</td>\n      <td>1</td>\n      <td>0</td>\n      <td>0</td>\n      <td>0</td>\n      <td>0</td>\n      <td>1</td>\n      <td>0</td>\n      <td>0</td>\n      <td>0</td>\n      <td>0</td>\n      <td>0</td>\n      <td>1</td>\n      <td>0</td>\n      <td>0</td>\n      <td>0</td>\n      <td>0</td>\n      <td>0</td>\n      <td>0</td>\n    </tr>\n    <tr>\n      <th>3</th>\n      <td>1</td>\n      <td>0</td>\n      <td>1</td>\n      <td>0</td>\n      <td>0</td>\n      <td>1</td>\n      <td>0</td>\n      <td>0</td>\n      <td>0</td>\n      <td>0</td>\n      <td>0</td>\n      <td>0</td>\n      <td>0</td>\n      <td>1</td>\n      <td>0</td>\n      <td>0</td>\n      <td>0</td>\n      <td>0</td>\n      <td>0</td>\n      <td>0</td>\n    </tr>\n    <tr>\n      <th>4</th>\n      <td>2</td>\n      <td>0</td>\n      <td>0</td>\n      <td>1</td>\n      <td>0</td>\n      <td>0</td>\n      <td>0</td>\n      <td>0</td>\n      <td>0</td>\n      <td>1</td>\n      <td>0</td>\n      <td>0</td>\n      <td>0</td>\n      <td>0</td>\n      <td>0</td>\n      <td>0</td>\n      <td>0</td>\n      <td>0</td>\n      <td>0</td>\n      <td>1</td>\n    </tr>\n  </tbody>\n</table>\n</div>"
                    },
                    "metadata": {}
                }
            ]
        },
        {
            "metadata": {},
            "cell_type": "markdown",
            "source": "### Feature selection- X and y data\nSet the attribute data (feature data) as X, and set the target data (severity code) as y."
        },
        {
            "metadata": {},
            "cell_type": "code",
            "source": "X=pd.DataFrame(df)\nX.drop(['SEVERITYCODE'], axis=1, inplace=True)\nX[0:5]",
            "execution_count": 14,
            "outputs": [
                {
                    "output_type": "execute_result",
                    "execution_count": 14,
                    "data": {
                        "text/plain": "   Alley  Block  Intersection  Blowing Sand/Dirt  Clear  Fog/Smog/Smoke  \\\n0      0      0             1                  0      0               0   \n1      0      1             0                  0      0               0   \n2      0      1             0                  0      0               0   \n3      0      1             0                  0      1               0   \n4      0      0             1                  0      0               0   \n\n   Overcast  Partly Cloudy  Raining  Severe Crosswind  \\\n0         1              0        0                 0   \n1         0              0        1                 0   \n2         1              0        0                 0   \n3         0              0        0                 0   \n4         0              0        1                 0   \n\n   Sleet/Hail/Freezing Rain  Snowing  Dry  Ice  Oil  Sand/Mud/Dirt  \\\n0                         0        0    0    0    0              0   \n1                         0        0    0    0    0              0   \n2                         0        0    1    0    0              0   \n3                         0        0    1    0    0              0   \n4                         0        0    0    0    0              0   \n\n   Snow/Slush  Standing Water  Wet  \n0           0               0    1  \n1           0               0    1  \n2           0               0    0  \n3           0               0    0  \n4           0               0    1  ",
                        "text/html": "<div>\n<style scoped>\n    .dataframe tbody tr th:only-of-type {\n        vertical-align: middle;\n    }\n\n    .dataframe tbody tr th {\n        vertical-align: top;\n    }\n\n    .dataframe thead th {\n        text-align: right;\n    }\n</style>\n<table border=\"1\" class=\"dataframe\">\n  <thead>\n    <tr style=\"text-align: right;\">\n      <th></th>\n      <th>Alley</th>\n      <th>Block</th>\n      <th>Intersection</th>\n      <th>Blowing Sand/Dirt</th>\n      <th>Clear</th>\n      <th>Fog/Smog/Smoke</th>\n      <th>Overcast</th>\n      <th>Partly Cloudy</th>\n      <th>Raining</th>\n      <th>Severe Crosswind</th>\n      <th>Sleet/Hail/Freezing Rain</th>\n      <th>Snowing</th>\n      <th>Dry</th>\n      <th>Ice</th>\n      <th>Oil</th>\n      <th>Sand/Mud/Dirt</th>\n      <th>Snow/Slush</th>\n      <th>Standing Water</th>\n      <th>Wet</th>\n    </tr>\n  </thead>\n  <tbody>\n    <tr>\n      <th>0</th>\n      <td>0</td>\n      <td>0</td>\n      <td>1</td>\n      <td>0</td>\n      <td>0</td>\n      <td>0</td>\n      <td>1</td>\n      <td>0</td>\n      <td>0</td>\n      <td>0</td>\n      <td>0</td>\n      <td>0</td>\n      <td>0</td>\n      <td>0</td>\n      <td>0</td>\n      <td>0</td>\n      <td>0</td>\n      <td>0</td>\n      <td>1</td>\n    </tr>\n    <tr>\n      <th>1</th>\n      <td>0</td>\n      <td>1</td>\n      <td>0</td>\n      <td>0</td>\n      <td>0</td>\n      <td>0</td>\n      <td>0</td>\n      <td>0</td>\n      <td>1</td>\n      <td>0</td>\n      <td>0</td>\n      <td>0</td>\n      <td>0</td>\n      <td>0</td>\n      <td>0</td>\n      <td>0</td>\n      <td>0</td>\n      <td>0</td>\n      <td>1</td>\n    </tr>\n    <tr>\n      <th>2</th>\n      <td>0</td>\n      <td>1</td>\n      <td>0</td>\n      <td>0</td>\n      <td>0</td>\n      <td>0</td>\n      <td>1</td>\n      <td>0</td>\n      <td>0</td>\n      <td>0</td>\n      <td>0</td>\n      <td>0</td>\n      <td>1</td>\n      <td>0</td>\n      <td>0</td>\n      <td>0</td>\n      <td>0</td>\n      <td>0</td>\n      <td>0</td>\n    </tr>\n    <tr>\n      <th>3</th>\n      <td>0</td>\n      <td>1</td>\n      <td>0</td>\n      <td>0</td>\n      <td>1</td>\n      <td>0</td>\n      <td>0</td>\n      <td>0</td>\n      <td>0</td>\n      <td>0</td>\n      <td>0</td>\n      <td>0</td>\n      <td>1</td>\n      <td>0</td>\n      <td>0</td>\n      <td>0</td>\n      <td>0</td>\n      <td>0</td>\n      <td>0</td>\n    </tr>\n    <tr>\n      <th>4</th>\n      <td>0</td>\n      <td>0</td>\n      <td>1</td>\n      <td>0</td>\n      <td>0</td>\n      <td>0</td>\n      <td>0</td>\n      <td>0</td>\n      <td>1</td>\n      <td>0</td>\n      <td>0</td>\n      <td>0</td>\n      <td>0</td>\n      <td>0</td>\n      <td>0</td>\n      <td>0</td>\n      <td>0</td>\n      <td>0</td>\n      <td>1</td>\n    </tr>\n  </tbody>\n</table>\n</div>"
                    },
                    "metadata": {}
                }
            ]
        },
        {
            "metadata": {},
            "cell_type": "code",
            "source": "y=df['SEVERITYCODE'].values\ny[0:5]",
            "execution_count": 15,
            "outputs": [
                {
                    "output_type": "execute_result",
                    "execution_count": 15,
                    "data": {
                        "text/plain": "array([2, 1, 1, 1, 2])"
                    },
                    "metadata": {}
                }
            ]
        },
        {
            "metadata": {},
            "cell_type": "markdown",
            "source": "### Normalize data"
        },
        {
            "metadata": {},
            "cell_type": "code",
            "source": "X= preprocessing.StandardScaler().fit(X).transform(X)\nX[0:5]",
            "execution_count": 16,
            "outputs": [
                {
                    "output_type": "stream",
                    "text": "/opt/conda/envs/Python36/lib/python3.6/site-packages/sklearn/preprocessing/data.py:645: DataConversionWarning: Data with input dtype uint8 were all converted to float64 by StandardScaler.\n  return self.partial_fit(X, y)\n/opt/conda/envs/Python36/lib/python3.6/site-packages/ipykernel/__main__.py:1: DataConversionWarning: Data with input dtype uint8 were all converted to float64 by StandardScaler.\n  if __name__ == '__main__':\n",
                    "name": "stderr"
                },
                {
                    "output_type": "execute_result",
                    "execution_count": 16,
                    "data": {
                        "text/plain": "array([[-0.0598465 , -1.3187756 ,  1.34155615, -0.01735958, -1.33456065,\n        -0.05705211,  2.30601482, -0.00538224, -0.48704473, -0.01203576,\n        -0.02525264, -0.07231742, -1.58365616, -0.08056091, -0.01864761,\n        -0.01940933, -0.07247915, -0.02502187,  1.6358207 ],\n       [-0.0598465 ,  0.75827912, -0.74540301, -0.01735958, -1.33456065,\n        -0.05705211, -0.43364856, -0.00538224,  2.05319951, -0.01203576,\n        -0.02525264, -0.07231742, -1.58365616, -0.08056091, -0.01864761,\n        -0.01940933, -0.07247915, -0.02502187,  1.6358207 ],\n       [-0.0598465 ,  0.75827912, -0.74540301, -0.01735958, -1.33456065,\n        -0.05705211,  2.30601482, -0.00538224, -0.48704473, -0.01203576,\n        -0.02525264, -0.07231742,  0.6314502 , -0.08056091, -0.01864761,\n        -0.01940933, -0.07247915, -0.02502187, -0.61131394],\n       [-0.0598465 ,  0.75827912, -0.74540301, -0.01735958,  0.74931027,\n        -0.05705211, -0.43364856, -0.00538224, -0.48704473, -0.01203576,\n        -0.02525264, -0.07231742,  0.6314502 , -0.08056091, -0.01864761,\n        -0.01940933, -0.07247915, -0.02502187, -0.61131394],\n       [-0.0598465 , -1.3187756 ,  1.34155615, -0.01735958, -1.33456065,\n        -0.05705211, -0.43364856, -0.00538224,  2.05319951, -0.01203576,\n        -0.02525264, -0.07231742, -1.58365616, -0.08056091, -0.01864761,\n        -0.01940933, -0.07247915, -0.02502187,  1.6358207 ]])"
                    },
                    "metadata": {}
                }
            ]
        },
        {
            "metadata": {},
            "cell_type": "markdown",
            "source": "### Train/test set split\nHere we split the data into training and test sets, the test size will be 20% of the whole data set."
        },
        {
            "metadata": {},
            "cell_type": "code",
            "source": "from sklearn.model_selection import train_test_split\nX_train, X_test, y_train, y_test=train_test_split(X,y, test_size=0.2, random_state=4)",
            "execution_count": 17,
            "outputs": []
        },
        {
            "metadata": {},
            "cell_type": "markdown",
            "source": "## Methodology"
        },
        {
            "metadata": {},
            "cell_type": "markdown",
            "source": "### Decision Tree\nThe first classification model built is decision tree. A decision tree was built having entropy as its criterion, and maximum depth of 4 which leads to the best accuracy score. The model is then trained with X_train and y_train data splited above."
        },
        {
            "metadata": {},
            "cell_type": "code",
            "source": "from sklearn.tree import DecisionTreeClassifier",
            "execution_count": 18,
            "outputs": []
        },
        {
            "metadata": {},
            "cell_type": "code",
            "source": "Tree=DecisionTreeClassifier(criterion=\"entropy\", max_depth=4)\nTree",
            "execution_count": 19,
            "outputs": [
                {
                    "output_type": "execute_result",
                    "execution_count": 19,
                    "data": {
                        "text/plain": "DecisionTreeClassifier(class_weight=None, criterion='entropy', max_depth=4,\n            max_features=None, max_leaf_nodes=None,\n            min_impurity_decrease=0.0, min_impurity_split=None,\n            min_samples_leaf=1, min_samples_split=2,\n            min_weight_fraction_leaf=0.0, presort=False, random_state=None,\n            splitter='best')"
                    },
                    "metadata": {}
                }
            ]
        },
        {
            "metadata": {},
            "cell_type": "code",
            "source": "Tree.fit(X_train, y_train)",
            "execution_count": 20,
            "outputs": [
                {
                    "output_type": "execute_result",
                    "execution_count": 20,
                    "data": {
                        "text/plain": "DecisionTreeClassifier(class_weight=None, criterion='entropy', max_depth=4,\n            max_features=None, max_leaf_nodes=None,\n            min_impurity_decrease=0.0, min_impurity_split=None,\n            min_samples_leaf=1, min_samples_split=2,\n            min_weight_fraction_leaf=0.0, presort=False, random_state=None,\n            splitter='best')"
                    },
                    "metadata": {}
                }
            ]
        },
        {
            "metadata": {},
            "cell_type": "markdown",
            "source": "### Logistic regression\nThen, logistic regression model is built. The inverse of regularization strength (C parameter) was set to 0.01. The model is then trained with X_train and y_train data splited above. "
        },
        {
            "metadata": {},
            "cell_type": "code",
            "source": "from sklearn.linear_model import LogisticRegression",
            "execution_count": 21,
            "outputs": []
        },
        {
            "metadata": {},
            "cell_type": "code",
            "source": "LR=LogisticRegression(C=0.01, solver='liblinear').fit(X_train, y_train)\nLR",
            "execution_count": 22,
            "outputs": [
                {
                    "output_type": "execute_result",
                    "execution_count": 22,
                    "data": {
                        "text/plain": "LogisticRegression(C=0.01, class_weight=None, dual=False, fit_intercept=True,\n          intercept_scaling=1, max_iter=100, multi_class='warn',\n          n_jobs=None, penalty='l2', random_state=None, solver='liblinear',\n          tol=0.0001, verbose=0, warm_start=False)"
                    },
                    "metadata": {}
                }
            ]
        },
        {
            "metadata": {},
            "cell_type": "markdown",
            "source": "### Support Vector Machine (SVM)\nThe last model is support vector machine (SVM). The kernel function chosen here was radial basis function (RBF)."
        },
        {
            "metadata": {},
            "cell_type": "code",
            "source": "from sklearn import svm",
            "execution_count": 23,
            "outputs": []
        },
        {
            "metadata": {},
            "cell_type": "code",
            "source": "clf=svm.SVC(kernel='rbf')\nclf.fit(X_train, y_train)",
            "execution_count": 24,
            "outputs": [
                {
                    "output_type": "stream",
                    "text": "/opt/conda/envs/Python36/lib/python3.6/site-packages/sklearn/svm/base.py:196: FutureWarning: The default value of gamma will change from 'auto' to 'scale' in version 0.22 to account better for unscaled features. Set gamma explicitly to 'auto' or 'scale' to avoid this warning.\n  \"avoid this warning.\", FutureWarning)\n",
                    "name": "stderr"
                },
                {
                    "output_type": "execute_result",
                    "execution_count": 24,
                    "data": {
                        "text/plain": "SVC(C=1.0, cache_size=200, class_weight=None, coef0=0.0,\n  decision_function_shape='ovr', degree=3, gamma='auto_deprecated',\n  kernel='rbf', max_iter=-1, probability=False, random_state=None,\n  shrinking=True, tol=0.001, verbose=False)"
                    },
                    "metadata": {}
                }
            ]
        },
        {
            "metadata": {},
            "cell_type": "markdown",
            "source": "## Results (evaluation)\nIn this section, the test sets of the data will be tested in each classification method and its accuracy score (Jaccard score and F-1 score for all three models, and log loss for logistic regression) will be calculated. It will assess the accuracy and reliability of the model. This will then be visualized in a table. "
        },
        {
            "metadata": {},
            "cell_type": "code",
            "source": "#import necessary programs\nfrom sklearn.metrics import jaccard_similarity_score\nfrom sklearn.metrics import f1_score\nfrom sklearn.metrics import log_loss",
            "execution_count": 25,
            "outputs": []
        },
        {
            "metadata": {},
            "cell_type": "code",
            "source": "#Decision Tree assessment\nyhat2=Tree.predict(X_test)\nDT_ja=jaccard_similarity_score(y_test,yhat2)\nDT_f1=f1_score(y_test, yhat2)\n",
            "execution_count": 26,
            "outputs": []
        },
        {
            "metadata": {},
            "cell_type": "code",
            "source": "#Logistic regression assessment\nyhat4=LR.predict(X_test)\nyhat4_prob=LR.predict_proba(X_test)\nLR_ja=jaccard_similarity_score(y_test,yhat4)\nLR_f1=f1_score(y_test, yhat4)\nLR_ll=log_loss(y_test, yhat4_prob)\n",
            "execution_count": 27,
            "outputs": []
        },
        {
            "metadata": {},
            "cell_type": "code",
            "source": "#SVM assessment\nyhat3=clf.predict(X_test)\nSVM_ja=jaccard_similarity_score(y_test,yhat3)\nSVM_f1=f1_score(y_test, yhat3)\n",
            "execution_count": 28,
            "outputs": []
        },
        {
            "metadata": {},
            "cell_type": "code",
            "source": "#Making a table of evaluation metrics\ndata={'Algorithm':['Decision Tree','SVM','Logistic Regression'], 'Jaccard':[DT_ja, SVM_ja, LR_ja], \n      'F1-score':[DT_f1, SVM_f1, LR_f1], 'LogLoss':['NA','NA',LR_ll]}\nreport=pd.DataFrame(data)\nreport",
            "execution_count": 29,
            "outputs": [
                {
                    "output_type": "execute_result",
                    "execution_count": 29,
                    "data": {
                        "text/plain": "             Algorithm   Jaccard  F1-score   LogLoss\n0        Decision Tree  0.676062  0.806726        NA\n1                  SVM  0.675656  0.806371        NA\n2  Logistic Regression  0.676120  0.806741  0.612382",
                        "text/html": "<div>\n<style scoped>\n    .dataframe tbody tr th:only-of-type {\n        vertical-align: middle;\n    }\n\n    .dataframe tbody tr th {\n        vertical-align: top;\n    }\n\n    .dataframe thead th {\n        text-align: right;\n    }\n</style>\n<table border=\"1\" class=\"dataframe\">\n  <thead>\n    <tr style=\"text-align: right;\">\n      <th></th>\n      <th>Algorithm</th>\n      <th>Jaccard</th>\n      <th>F1-score</th>\n      <th>LogLoss</th>\n    </tr>\n  </thead>\n  <tbody>\n    <tr>\n      <th>0</th>\n      <td>Decision Tree</td>\n      <td>0.676062</td>\n      <td>0.806726</td>\n      <td>NA</td>\n    </tr>\n    <tr>\n      <th>1</th>\n      <td>SVM</td>\n      <td>0.675656</td>\n      <td>0.806371</td>\n      <td>NA</td>\n    </tr>\n    <tr>\n      <th>2</th>\n      <td>Logistic Regression</td>\n      <td>0.676120</td>\n      <td>0.806741</td>\n      <td>0.612382</td>\n    </tr>\n  </tbody>\n</table>\n</div>"
                    },
                    "metadata": {}
                }
            ]
        },
        {
            "metadata": {},
            "cell_type": "markdown",
            "source": "## Discussion\nFrom the above sections, two models which are decision tree, logistic regression, and support vector machine (SVM) were built and assessed. The three models resulted in very similar evaluation scores. For Jaccard index, Decision Tree model yielded the index of 0.676062, Logistic Regression model yielded 0.676120, and SVM 0.675656. For F-1 score, Decison Tree showed the score of 0.806726, Logistic Regression showed 0.806741, and SVM 0.806371. All of them yielded the Jaccard index and F-1 scores closed to 1, indicating the accuracy of the three models are considerably high. Moreover, since their scores are very similar, it is considered that there is no point of comparing the tiny difference between them.\n\nRather, the characteristics and properties of the three models should be considered. \n\nFirst of all, logistic regression model may not be the best fit for our car accident severity predictor as the model is used when the target data is binary. It was possible to implement this method because the car accident severity levels given in the data consist of the values 1 and 2 only. However, in the reality, the severity level can vary from 0 to 3, having 0 as unknown and 3 as fatal. This problem occurred from not having sufficient data, not the modelling itself, but still, the logistic regression model will fail to predict other levels of severity aside from levels 1 and 2.\n?\nFor the similar reason, SVM is also considered not to be the best model. An SVM classifies binary data by finding the best hyperplane that separates the two layers of data. As mentioned above, in reality, the severity levels vary from 0 to 3. It is not appropriate to use this model in real life applications.\n"
        },
        {
            "metadata": {},
            "cell_type": "markdown",
            "source": "## Conclusion\nIn conclusion, among these three models, decision tree is considered as the best model. It is because decision tree models are non-parametric, and makes no assumption on the distribution of data and structure of the model. It can classify target variables into discrete sets of values. With this decision tree model, the severity of possible car accidents in given weather, road, and light conditions could be predicted, giving a better rout recommendation for the map users and ultimate reduce the occurance of car accidents, bringing our company a peerless positioning in the market.\n\nOn the other hand, it is unfortunate that the decision tree diagram could not be visualized due to the limitation of time and the program (taking unreasonably long time to execute certain codes). For some future recommendations, the tree diagram can be visualized for a better understanding and application of the model. Moreover, K Nearest Neighbors (KNN) model could not be built for the same limitation, therefore KNN model can be built and studied further for a better model evaluation and selection. "
        },
        {
            "metadata": {},
            "cell_type": "code",
            "source": "",
            "execution_count": null,
            "outputs": []
        }
    ],
    "metadata": {
        "kernelspec": {
            "name": "python3",
            "display_name": "Python 3.6",
            "language": "python"
        },
        "language_info": {
            "name": "python",
            "version": "3.6.9",
            "mimetype": "text/x-python",
            "codemirror_mode": {
                "name": "ipython",
                "version": 3
            },
            "pygments_lexer": "ipython3",
            "nbconvert_exporter": "python",
            "file_extension": ".py"
        }
    },
    "nbformat": 4,
    "nbformat_minor": 1
}